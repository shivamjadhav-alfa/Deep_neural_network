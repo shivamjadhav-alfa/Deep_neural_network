{
  "nbformat": 4,
  "nbformat_minor": 0,
  "metadata": {
    "colab": {
      "name": "newDNN.ipynb",
      "provenance": [],
      "collapsed_sections": []
    },
    "kernelspec": {
      "name": "python3",
      "display_name": "Python 3"
    }
  },
  "cells": [
    {
      "cell_type": "code",
      "metadata": {
        "id": "rvvT4_5j7fuY",
        "colab_type": "code",
        "colab": {}
      },
      "source": [
        "\n",
        "import numpy as np\n",
        "import matplotlib.pyplot as plt\n",
        "import pandas as pd"
      ],
      "execution_count": 1,
      "outputs": []
    },
    {
      "cell_type": "code",
      "metadata": {
        "id": "U9uoYK0kBrv_",
        "colab_type": "code",
        "colab": {}
      },
      "source": [
        "\n",
        "class Deep_Neural_Network:\n",
        "  def __init__(self,layers_dims,learning_rate=0.01,num_iterations=10000,print_cost=False,activation=\"relu\",lamda=0.1,optimizer=\"rms\"):\n",
        "    self.optimizer=optimizer\n",
        "    self.beta=0.9\n",
        "    self.learning_rate=learning_rate\n",
        "    self.lamda=lamda\n",
        "    self.activation=activation\n",
        "    self.num_iterations=num_iterations\n",
        "    self.X=0\n",
        "    self.layers_dims=layers_dims\n",
        "    self.Y=0\n",
        "    self.parameters={}\n",
        "    self.costs=[]\n",
        "    self.gradsRms={}\n",
        "    self.grads={}\n",
        "    self.print_cost=print_cost\n",
        "    self.m=0\n",
        "    self.accuracy=[]\n",
        "    self.epsilon=0.000000001\n",
        "  def fit(self,X,Y):\n",
        "    self.X=X\n",
        "    self.Y=Y\n",
        "    self.m=Y.shape[1]\n",
        "    self.initialize_parameters()\n",
        "    for i in range(0, self.num_iterations):\n",
        "        AL, caches = self.L_model_forward(self.X,self.parameters)\n",
        "        cost = self.compute_cost(AL)\n",
        "        \n",
        "        prediction=np.argmax(AL,axis=0)\n",
        "        prediction=prediction.reshape(1,prediction.shape[0])\n",
        "        \n",
        "        acc=self.validator(prediction)\n",
        "        self.L_model_backward(AL, caches)\n",
        "       \n",
        "        self.update_parameters()\n",
        "        if self.print_cost and i % 1000 == 0:\n",
        "            print (\"Cost after iteration %i: %f\" %(i, cost))\n",
        "            \n",
        "        self.costs.append(cost)\n",
        "        self.accuracy.append(acc)\n",
        "\n",
        "    # plot the cost\n",
        "    plt.plot(np.squeeze(self.costs))\n",
        "    plt.ylabel('cost')\n",
        "    plt.xlabel('iterations (per tens)')\n",
        "    plt.title(\"Learning rate =\" + str(self.learning_rate))\n",
        "    plt.show()\n",
        "    plt.plot(np.squeeze(self.accuracy))\n",
        "    plt.ylabel('accuracy')\n",
        "    plt.xlabel('iterations (per tens)')\n",
        "    plt.title(\"Learning rate =\" + str(self.learning_rate))\n",
        "    plt.show()\n",
        "  def initialize_parameters(self):\n",
        "    L=len(self.layers_dims)\n",
        "    for i in range(1,L):\n",
        "      self.parameters[\"W\"+str(i)]=np.random.randn(self.layers_dims[i],self.layers_dims[i-1])*0.01\n",
        "      self.parameters['b'+str(i)]=np.zeros((self.layers_dims[i],1))\n",
        "      self.gradsRms[\"sdW\"+str(i)]=np.zeros((self.layers_dims[i],layers_dims[i-1]))\n",
        "      self.gradsRms[\"sdb\"+str(i)]=np.zeros((self.layers_dims[i],1))\n",
        "  def L_model_forward(self,X,parameters):\n",
        "    caches=[]\n",
        "    A=X\n",
        "    L=len(parameters)//2\n",
        "    for l in range(1,L):\n",
        "      A_prev=A\n",
        "      A,cache=self.linear_activation_forward(A_prev,parameters[\"W\"+str(l)],parameters[\"b\"+str(l)],\"relu\")\n",
        "      caches.append(cache)\n",
        "    Al,cache=self.linear_activation_forward(A,parameters[\"W\"+str(L)],parameters[\"b\"+str(L)],\"sigmoid\")\n",
        "    caches.append(cache)\n",
        "    return Al,caches\n",
        "  def sigmoid_(self,Z):\n",
        "    return 1/(1+np.exp(-Z))\n",
        "  def sigmoid(self,Z):\n",
        "    \n",
        "    return self.sigmoid_(Z),Z\n",
        "  def relu(self,Z):\n",
        "    A=Z*(Z>0)\n",
        "    return A,Z\n",
        "  def linear_forward(self,A,W,b):\n",
        "    cache=(A,W,b)\n",
        "    Z=np.dot(W,A)+b\n",
        "    return Z,cache\n",
        "  \n",
        "  def linear_activation_forward(self,A,W,b,activation):\n",
        "    Z,linear_cache=self.linear_forward(A,W,b)\n",
        "    if activation==\"sigmoid\":\n",
        "      A,activation_cache=self.sigmoid(Z)\n",
        "    elif activation==\"relu\":\n",
        "      A,activation_cache=self.relu(Z)\n",
        "    cache=(linear_cache,activation_cache)\n",
        "    return A,cache\n",
        "  def compute_cost(self,AL):\n",
        "    regTerm=0\n",
        "    for i in range(1,len(layers_dims)):\n",
        "      regTerm+=(np.sum(np.square(self.parameters[\"W\"+str(i)])))\n",
        "    regTerm=(self.lamda)*(regTerm)/(2*self.m)\n",
        "\n",
        "\n",
        "    cost = (-(1/self.m)*np.sum((self.Y*np.log(AL+self.epsilon))+(1-self.Y)*np.log(1-AL+self.epsilon)))+regTerm\n",
        "    cost=np.squeeze(cost)\n",
        "    return cost\n",
        "  def L_model_backward(self,AL,cache):\n",
        "    self.grads={}\n",
        "    L=len(cache)\n",
        "    m=AL.shape[1]\n",
        "    self.Y = self.Y.reshape(AL.shape)\n",
        "    dAL = - (np.divide(self.Y, AL+self.epsilon) - np.divide(1 - self.Y, 1 - AL+self.epsilon))\n",
        "    current_cache=cache[L-1]\n",
        "    self.grads[\"dA\"+str(L-1)],self.grads[\"dW\"+str(L)],self.grads[\"db\"+str(L)]=self.linear_activation_backward(dAL,current_cache,\"sigmoid\")\n",
        "    \n",
        "    \n",
        "    for l in reversed(range(L-1)):\n",
        "      current_cache=cache[l]\n",
        "      dA_prev_temp,dW_temp,db_temp=self.linear_activation_backward(self.grads[\"dA\"+str(l+1)],current_cache,\"relu\")\n",
        "      self.grads[\"dA\"+str(l)]=dA_prev_temp\n",
        "      self.grads[\"dW\"+str(l+1)]=dW_temp\n",
        "      self.grads[\"db\"+str(l+1)]=db_temp\n",
        "      \n",
        "    \n",
        "  def linear_activation_backward(self,dA,cache,activation):\n",
        "    linear_cache,activation_cache=cache\n",
        "    if activation==\"relu\":\n",
        "      A=1.*(activation_cache>0)\n",
        "      dZ=dA*A\n",
        "      dA_prev,dW,db=self.linear_backward(dZ,linear_cache)\n",
        "    elif activation==\"sigmoid\":\n",
        "      dZ=dA*(self.sigmoid_(activation_cache)*(1-self.sigmoid_(activation_cache)))\n",
        "      dA_prev,dW,db=self.linear_backward(dZ,linear_cache)\n",
        "    return dA_prev,dW,db\n",
        "  def linear_backward(self,dZ,cache):\n",
        "    (A_prev,W,b)=cache\n",
        "    m=A_prev.shape[1]\n",
        "    dW=(1/m)*np.dot(dZ,A_prev.T)\n",
        "    db=(1/m)*np.sum(dZ,axis=1,keepdims=True)\n",
        "    dA_prev = np.dot(W.T,dZ)\n",
        "    return dA_prev, dW, db\n",
        "  def validator(self,AL):\n",
        "    \n",
        "    y_pred=np.zeros((self.Y.shape[0],self.Y.shape[1]))\n",
        "    for i in range(AL.shape[1]):\n",
        "      y_pred[AL[0,i],i]=1\n",
        "    return (np.sum(y_pred==self.Y)/self.m)*10\n",
        "  def RmsProp(self):\n",
        "    L=len(self.layers_dims)\n",
        "    for i in range(1,L):\n",
        "      self.gradsRms[\"sdW\"+str(i)]=self.gradsRms[\"sdW\"+str(i)]*self.beta+(1-self.beta)*np.square(self.grads[\"dW\"+str(i)])\n",
        "      self.gradsRms[\"sdb\"+str(i)]=self.gradsRms[\"sdb\"+str(i)]*self.beta+(1-self.beta)*np.square(self.grads[\"db\"+str(i)])\n",
        "\n",
        "  def update_parameters(self):\n",
        "    L=len(self.parameters)//2\n",
        "    self.RmsProp()\n",
        "    for l in range(L):\n",
        "      self.parameters[\"W\"+str(l+1)]=self.parameters[\"W\"+str(l+1)]*(1-(self.learning_rate*self.lamda)/self.m)-(self.learning_rate/(np.sqrt(self.gradsRms[\"sdW\"+str(l+1)])+self.epsilon))*self.grads[\"dW\"+str(l+1)]\n",
        "      self.parameters[\"b\"+str(l+1)]=self.parameters[\"b\"+str(l+1)]-(self.learning_rate/(np.sqrt(self.gradsRms[\"sdb\"+str(l+1)])+self.epsilon))*self.grads[\"db\"+str(l+1)]\n",
        "  def predict_L_layer(self,X):\n",
        "    AL,caches=self.L_model_forward(X,self.parameters)\n",
        "    prediction=np.argmax(AL,axis=0)\n",
        "    return prediction.reshape(1,prediction.shape[0])\n",
        "  def predict(self,X,Y_):\n",
        "    predictions=self.predict_L_layer(X)\n",
        "    print(\"Training Accuracy : \"+ str(np.sum(predictions==Y_)/Y_.shape[1] * 100)+\" %\")\n",
        "    return predictions\n",
        "  \n"
      ],
      "execution_count": 72,
      "outputs": []
    },
    {
      "cell_type": "code",
      "metadata": {
        "id": "oHcJ7h8tUW6q",
        "colab_type": "code",
        "colab": {}
      },
      "source": [
        "from sklearn.datasets import load_digits\n",
        "digits=load_digits()\n",
        "n_samples=len(digits.images)\n",
        "\n",
        "\n",
        "x=digits.images.reshape((n_samples,-1))\n",
        "\n",
        "y=digits.target\n",
        "\n",
        "from sklearn.model_selection import train_test_split\n",
        "X_train, X_test, y_train, y_test = train_test_split(x, y, test_size = 0.3)\n",
        "from sklearn.preprocessing import StandardScaler\n",
        "sc = StandardScaler()\n",
        "X_train = sc.fit_transform(X_train)\n",
        "X_test = sc.transform(X_test)\n",
        "\n",
        "X_train=X_train.T\n",
        "X_test=X_test.T\n",
        "y_train=y_train.reshape(y_train.shape[0],1)\n",
        "y_test=y_test.reshape(y_test.shape[0],1)\n",
        "y_train=y_train.T\n",
        "y_test=y_test.T\n",
        "Y_train_=np.zeros((10,y_train.shape[1]))\n",
        "for i in range(y_train.shape[1]):\n",
        "    Y_train_[y_train[0,i],i]=1\n",
        "Y_test_=np.zeros((10,y_test.shape[1]))\n",
        "for i in range(y_test.shape[1]):\n",
        "    Y_test_[y_test[0,i],i]=1"
      ],
      "execution_count": 128,
      "outputs": []
    },
    {
      "cell_type": "code",
      "metadata": {
        "id": "fe16CCmMptvg",
        "colab_type": "code",
        "colab": {
          "base_uri": "https://localhost:8080/",
          "height": 591
        },
        "outputId": "3a855345-8724-4abb-83fc-084c095e5843"
      },
      "source": [
        "n_x=X_train.shape[0]\n",
        "layers_dims=[n_x,10,10]\n",
        "ob=Deep_Neural_Network(layers_dims,0.05,1000,True,lamda=0.1,optimizer=\"rms\")\n",
        "ob.fit(X_train,Y_train_)"
      ],
      "execution_count": 129,
      "outputs": [
        {
          "output_type": "stream",
          "text": [
            "Cost after iteration 0: 6.931657\n"
          ],
          "name": "stdout"
        },
        {
          "output_type": "display_data",
          "data": {
            "image/png": "[encoded data removed]",
            "text/plain": [
              "<Figure size 432x288 with 1 Axes>"
            ]
          },
          "metadata": {
            "tags": [],
            "needs_background": "light"
          }
        },
        {
          "output_type": "display_data",
          "data": {
            "image/png": "[encoded data removed]",
            "text/plain": [
              "<Figure size 432x288 with 1 Axes>"
            ]
          },
          "metadata": {
            "tags": [],
            "needs_background": "light"
          }
        }
      ]
    },
    {
      "cell_type": "code",
      "metadata": {
        "id": "rsPPj0BGVKHk",
        "colab_type": "code",
        "colab": {
          "base_uri": "https://localhost:8080/",
          "height": 35
        },
        "outputId": "596f91e4-5f1e-46a9-cae5-719a9d731e4d"
      },
      "source": [
        "b=ob.predict(X_train,y_train)"
      ],
      "execution_count": 130,
      "outputs": [
        {
          "output_type": "stream",
          "text": [
            "Training Accuracy : 100.0 %\n"
          ],
          "name": "stdout"
        }
      ]
    },
    {
      "cell_type": "code",
      "metadata": {
        "id": "xjF0w16kwgn0",
        "colab_type": "code",
        "colab": {
          "base_uri": "https://localhost:8080/",
          "height": 35
        },
        "outputId": "f984f7bb-78fc-4940-bb6a-04d9ffe3f094"
      },
      "source": [
        "bb=ob.predict(X_test,y_test)"
      ],
      "execution_count": 131,
      "outputs": [
        {
          "output_type": "stream",
          "text": [
            "Training Accuracy : 95.0 %\n"
          ],
          "name": "stdout"
        }
      ]
    },
    {
      "cell_type": "code",
      "metadata": {
        "id": "aS_MHydKORUx",
        "colab_type": "code",
        "colab": {
          "base_uri": "https://localhost:8080/",
          "height": 1000
        },
        "outputId": "8842684d-7dd4-452a-80f8-8d001cb0112d"
      },
      "source": [
        "import random\n",
        "for j in range(15):\n",
        "    i=random.randint(0,n_samples)\n",
        "    plt.gray()\n",
        "    plt.matshow(digits.images[i])\n",
        "    plt.show()\n",
        "    img=digits.images[i].reshape((64,1)).T\n",
        "    img = sc.transform(img)\n",
        "    img=img.T\n",
        "    predicted_digit=ob.predict_L_layer(img)\n",
        "    print('Predicted digit is : '+str(predicted_digit))\n",
        "    print('True digit is: '+ str(y[i]))"
      ],
      "execution_count": 132,
      "outputs": [
        {
          "output_type": "display_data",
          "data": {
            "text/plain": [
              "<Figure size 432x288 with 0 Axes>"
            ]
          },
          "metadata": {
            "tags": []
          }
        },
        {
          "output_type": "display_data",
          "data": {
            "image/png": "[encoded data removed]",
            "text/plain": [
              "<Figure size 288x288 with 1 Axes>"
            ]
          },
          "metadata": {
            "tags": [],
            "needs_background": "light"
          }
        },
        {
          "output_type": "stream",
          "text": [
            "Predicted digit is : [[4]]\n",
            "True digit is: 4\n"
          ],
          "name": "stdout"
        },
        {
          "output_type": "display_data",
          "data": {
            "text/plain": [
              "<Figure size 432x288 with 0 Axes>"
            ]
          },
          "metadata": {
            "tags": []
          }
        },
        {
          "output_type": "display_data",
          "data": {
            "image/png": "[encoded data removed]",
            "text/plain": [
              "<Figure size 288x288 with 1 Axes>"
            ]
          },
          "metadata": {
            "tags": [],
            "needs_background": "light"
          }
        },
        {
          "output_type": "stream",
          "text": [
            "Predicted digit is : [[4]]\n",
            "True digit is: 4\n"
          ],
          "name": "stdout"
        },
        {
          "output_type": "display_data",
          "data": {
            "text/plain": [
              "<Figure size 432x288 with 0 Axes>"
            ]
          },
          "metadata": {
            "tags": []
          }
        },
        {
          "output_type": "display_data",
          "data": {
            "image/png": "[encoded data removed]",
            "text/plain": [
              "<Figure size 288x288 with 1 Axes>"
            ]
          },
          "metadata": {
            "tags": [],
            "needs_background": "light"
          }
        },
        {
          "output_type": "stream",
          "text": [
            "Predicted digit is : [[6]]\n",
            "True digit is: 6\n"
          ],
          "name": "stdout"
        },
        {
          "output_type": "display_data",
          "data": {
            "text/plain": [
              "<Figure size 432x288 with 0 Axes>"
            ]
          },
          "metadata": {
            "tags": []
          }
        },
        {
          "output_type": "display_data",
          "data": {
            "image/png": "[encoded data removed]",
            "text/plain": [
              "<Figure size 288x288 with 1 Axes>"
            ]
          },
          "metadata": {
            "tags": [],
            "needs_background": "light"
          }
        },
        {
          "output_type": "stream",
          "text": [
            "Predicted digit is : [[7]]\n",
            "True digit is: 7\n"
          ],
          "name": "stdout"
        },
        {
          "output_type": "display_data",
          "data": {
            "text/plain": [
              "<Figure size 432x288 with 0 Axes>"
            ]
          },
          "metadata": {
            "tags": []
          }
        },
        {
          "output_type": "display_data",
          "data": {
            "image/png": "[encoded data removed]",
            "text/plain": [
              "<Figure size 288x288 with 1 Axes>"
            ]
          },
          "metadata": {
            "tags": [],
            "needs_background": "light"
          }
        },
        {
          "output_type": "stream",
          "text": [
            "Predicted digit is : [[1]]\n",
            "True digit is: 1\n"
          ],
          "name": "stdout"
        },
        {
          "output_type": "display_data",
          "data": {
            "text/plain": [
              "<Figure size 432x288 with 0 Axes>"
            ]
          },
          "metadata": {
            "tags": []
          }
        },
        {
          "output_type": "display_data",
          "data": {
            "image/png": "[encoded data removed]",
            "text/plain": [
              "<Figure size 288x288 with 1 Axes>"
            ]
          },
          "metadata": {
            "tags": [],
            "needs_background": "light"
          }
        },
        {
          "output_type": "stream",
          "text": [
            "Predicted digit is : [[4]]\n",
            "True digit is: 4\n"
          ],
          "name": "stdout"
        },
        {
          "output_type": "display_data",
          "data": {
            "text/plain": [
              "<Figure size 432x288 with 0 Axes>"
            ]
          },
          "metadata": {
            "tags": []
          }
        },
        {
          "output_type": "display_data",
          "data": {
            "image/png": "[encoded data removed]",
            "text/plain": [
              "<Figure size 288x288 with 1 Axes>"
            ]
          },
          "metadata": {
            "tags": [],
            "needs_background": "light"
          }
        },
        {
          "output_type": "stream",
          "text": [
            "Predicted digit is : [[0]]\n",
            "True digit is: 0\n"
          ],
          "name": "stdout"
        },
        {
          "output_type": "display_data",
          "data": {
            "text/plain": [
              "<Figure size 432x288 with 0 Axes>"
            ]
          },
          "metadata": {
            "tags": []
          }
        },
        {
          "output_type": "display_data",
          "data": {
            "image/png": "[encoded data removed]",
            "text/plain": [
              "<Figure size 288x288 with 1 Axes>"
            ]
          },
          "metadata": {
            "tags": [],
            "needs_background": "light"
          }
        },
        {
          "output_type": "stream",
          "text": [
            "Predicted digit is : [[9]]\n",
            "True digit is: 9\n"
          ],
          "name": "stdout"
        },
        {
          "output_type": "display_data",
          "data": {
            "text/plain": [
              "<Figure size 432x288 with 0 Axes>"
            ]
          },
          "metadata": {
            "tags": []
          }
        },
        {
          "output_type": "display_data",
          "data": {
            "image/png": "[encoded data removed]",
            "text/plain": [
              "<Figure size 288x288 with 1 Axes>"
            ]
          },
          "metadata": {
            "tags": [],
            "needs_background": "light"
          }
        },
        {
          "output_type": "stream",
          "text": [
            "Predicted digit is : [[7]]\n",
            "True digit is: 7\n"
          ],
          "name": "stdout"
        },
        {
          "output_type": "display_data",
          "data": {
            "text/plain": [
              "<Figure size 432x288 with 0 Axes>"
            ]
          },
          "metadata": {
            "tags": []
          }
        },
        {
          "output_type": "display_data",
          "data": {
            "image/png": "[encoded data removed]",
            "text/plain": [
              "<Figure size 288x288 with 1 Axes>"
            ]
          },
          "metadata": {
            "tags": [],
            "needs_background": "light"
          }
        },
        {
          "output_type": "stream",
          "text": [
            "Predicted digit is : [[5]]\n",
            "True digit is: 5\n"
          ],
          "name": "stdout"
        },
        {
          "output_type": "display_data",
          "data": {
            "text/plain": [
              "<Figure size 432x288 with 0 Axes>"
            ]
          },
          "metadata": {
            "tags": []
          }
        },
        {
          "output_type": "display_data",
          "data": {
            "image/png": "[encoded data removed]",
            "text/plain": [
              "<Figure size 288x288 with 1 Axes>"
            ]
          },
          "metadata": {
            "tags": [],
            "needs_background": "light"
          }
        },
        {
          "output_type": "stream",
          "text": [
            "Predicted digit is : [[6]]\n",
            "True digit is: 6\n"
          ],
          "name": "stdout"
        },
        {
          "output_type": "display_data",
          "data": {
            "text/plain": [
              "<Figure size 432x288 with 0 Axes>"
            ]
          },
          "metadata": {
            "tags": []
          }
        },
        {
          "output_type": "display_data",
          "data": {
            "image/png": "[encoded data removed]",
            "text/plain": [
              "<Figure size 288x288 with 1 Axes>"
            ]
          },
          "metadata": {
            "tags": [],
            "needs_background": "light"
          }
        },
        {
          "output_type": "stream",
          "text": [
            "Predicted digit is : [[9]]\n",
            "True digit is: 9\n"
          ],
          "name": "stdout"
        },
        {
          "output_type": "display_data",
          "data": {
            "text/plain": [
              "<Figure size 432x288 with 0 Axes>"
            ]
          },
          "metadata": {
            "tags": []
          }
        },
        {
          "output_type": "display_data",
          "data": {
            "image/png": "[encoded data removed]",
            "text/plain": [
              "<Figure size 288x288 with 1 Axes>"
            ]
          },
          "metadata": {
            "tags": [],
            "needs_background": "light"
          }
        },
        {
          "output_type": "stream",
          "text": [
            "Predicted digit is : [[2]]\n",
            "True digit is: 2\n"
          ],
          "name": "stdout"
        },
        {
          "output_type": "display_data",
          "data": {
            "text/plain": [
              "<Figure size 432x288 with 0 Axes>"
            ]
          },
          "metadata": {
            "tags": []
          }
        },
        {
          "output_type": "display_data",
          "data": {
            "image/png": "[encoded data removed]",
            "text/plain": [
              "<Figure size 288x288 with 1 Axes>"
            ]
          },
          "metadata": {
            "tags": [],
            "needs_background": "light"
          }
        },
        {
          "output_type": "stream",
          "text": [
            "Predicted digit is : [[9]]\n",
            "True digit is: 9\n"
          ],
          "name": "stdout"
        },
        {
          "output_type": "display_data",
          "data": {
            "text/plain": [
              "<Figure size 432x288 with 0 Axes>"
            ]
          },
          "metadata": {
            "tags": []
          }
        },
        {
          "output_type": "display_data",
          "data": {
            "image/png": "[encoded data removed]",
            "text/plain": [
              "<Figure size 288x288 with 1 Axes>"
            ]
          },
          "metadata": {
            "tags": [],
            "needs_background": "light"
          }
        },
        {
          "output_type": "stream",
          "text": [
            "Predicted digit is : [[8]]\n",
            "True digit is: 8\n"
          ],
          "name": "stdout"
        }
      ]
    },
    {
      "cell_type": "code",
      "metadata": {
        "id": "9mrk6-vOU41_",
        "colab_type": "code",
        "colab": {}
      },
      "source": [
        ""
      ],
      "execution_count": null,
      "outputs": []
    }
  ]
}